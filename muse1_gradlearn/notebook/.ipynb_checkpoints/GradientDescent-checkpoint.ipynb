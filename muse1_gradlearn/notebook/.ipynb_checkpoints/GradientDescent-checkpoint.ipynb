{
 "cells": [
  {
   "cell_type": "markdown",
   "metadata": {},
   "source": [
    "# Demystifying Gradients in CNN\n",
    "\n",
    "Gradients are those mysterious creatures found in every nook and corner of intelligent designs. It forms bedrock for all the intelligent systems around. In this blog, we will try and dig deeper into world of gradients ,starting from tiny world of derivatives straight upto how training of CNN is strongly tied with this basic understanding."
   ]
  },
  {
   "cell_type": "markdown",
   "metadata": {},
   "source": [
    "## Derivatives\n",
    "Derivative is nothing but gradient with just one variable. The simplest example is to calculate derivative of $f(x) = 2*x^2 $ with respect to x, and evaluate it for $x=3$. The value of derivative is $$ \\lbrack 4*x \\rbrack _{(x=3)}=12 $$"
   ]
  },
  {
   "cell_type": "code",
   "execution_count": 7,
   "metadata": {},
   "outputs": [
    {
     "name": "stdout",
     "output_type": "stream",
     "text": [
      "[12.0]\n"
     ]
    }
   ],
   "source": [
    "import tensorflow as tf;\n",
    "x= tf.placeholder(tf.float32);\n",
    "fx =2*x*x;\n",
    "grads =tf.gradients(fx,x)\n",
    "with tf.Session() as sess:\n",
    "    print (sess.run(grads,feed_dict={x:3.0}))"
   ]
  },
  {
   "cell_type": "markdown",
   "metadata": {},
   "source": [
    "As we can see, tensorflow's answer matches our high school caluculation of derivates. What if we want to calcuate gradient for multivariate function such as $f(x,y) = 2x^2+3y^2$ w.r.t (x,y)? In this case, it calculates partial derivative of function with respect to each variable and substitute the value.\n",
    "$$ \\underbrace{\\nabla f(x,y)}_{\\text{w.r.t }(x,y)} = \\underbrace{\\begin{bmatrix} 4x \\\\ 6y \\end{bmatrix} }_{(x=3,y=5)}  = \\begin{bmatrix} 12 \\\\ 30 \\end{bmatrix}  $$\n"
   ]
  },
  {
   "cell_type": "code",
   "execution_count": 6,
   "metadata": {},
   "outputs": [
    {
     "name": "stdout",
     "output_type": "stream",
     "text": [
      "[12.0, 30.0]\n"
     ]
    }
   ],
   "source": [
    "import tensorflow as tf;\n",
    "x= tf.placeholder(tf.float32);\n",
    "y= tf.placeholder(tf.float32);\n",
    "fxy =2*x*x+3*y*y;\n",
    "grads =tf.gradients(fxy,[x,y])\n",
    "with tf.Session() as sess:\n",
    "    print (sess.run(grads,feed_dict={x:3.0,y:5.0}))"
   ]
  },
  {
   "cell_type": "markdown",
   "metadata": {},
   "source": [
    "Also note, that larger the weightage of that term in loss function, the larger will the gradient w.r.t that variable.Let us now see, how gradients work when we have a convolutional layer in CNN.\n",
    "\n",
    "### Understanding Gradients for Convolutional Layers"
   ]
  },
  {
   "cell_type": "code",
   "execution_count": 34,
   "metadata": {},
   "outputs": [
    {
     "name": "stdout",
     "output_type": "stream",
     "text": [
      "39.0\n",
      "[array([ 7.,  7.,  6.], dtype=float32)]\n"
     ]
    }
   ],
   "source": [
    "# Manual Convolution\n",
    "#(Assume filter is already flipped)\n",
    "import tensorflow as tf;\n",
    "import numpy as np;\n",
    "def conv(x,h):\n",
    "    out =[]\n",
    "    for i in range(6-3+1):\n",
    "        out.append(tf.tensordot(x[i:i+3],h,axes=1))\n",
    "    return tf.convert_to_tensor(out)\n",
    "x = tf.placeholder(tf.float32,shape=(6))\n",
    "h = tf.Variable(np.array([1,2,3]),dtype=tf.float32)\n",
    "out = tf.reduce_sum(conv(x,h))\n",
    "grads = tf.gradients(out,h)\n",
    "with tf.Session() as sess:\n",
    "    sess.run(tf.global_variables_initializer());\n",
    "    print (sess.run(out,feed_dict={x : np.array([1,2,3,1,1,1])}))\n",
    "    print (sess.run(grads,feed_dict={x : np.array([1,2,3,1,1,1])}))"
   ]
  },
  {
   "cell_type": "markdown",
   "metadata": {},
   "source": [
    "### Q ) Can you calculate this output? \n",
    "\n",
    "It is pretty simple. Let us say, I want to find gradient for $0^{th}$ multiplier (a.k.a hidden variable). This will be nothing but partial derivative of the output(or reduce sum form of output, if it is not single value) with respect to $h[0]$. $$\\cfrac{\\partial (x*h)}{\\partial h[0]}$$\n",
    "Looks scary, huh ?\n",
    "But explaination can be simplified, if we can write convolution as a matrix operation. (Note : It won't match with textbook as textbook will have flipped version of it + we have slided the filter, First times, please ignore this note )\n",
    "$$\\begin{bmatrix}y[0]\\\\y[1]\\\\y[2]\\\\y[3] \\end{bmatrix} = \\begin{bmatrix}\\textbf{x[0]} & x[1] & x[2] \\\\ \\textbf{x[1]} & x[2] & x[3]  \\\\ \\textbf{x[2]} & x[3] & x[4]  \\\\ \\textbf{x[3]} & x[4] & x[5] \\end{bmatrix}\\begin{bmatrix}\\textbf{h[0]}\\\\h[1]\\\\h[2] \\end{bmatrix}$$\n",
    "On one level, when we say gradient with respect to h[0], what grad for h[0] is saying is that, hey remove all terms that are not multiplied with me, and then sum all that is attached to me. \n",
    "\n",
    "As I have highlighted, the embolded $[x[0],x[1],x[2],x[3]]$ are the ones, which are multiplied with $h[0]$ in one or the other way. Sum them up, and you get the output of gradient value corrosponding to $h[0]$ ! Simple :) "
   ]
  },
  {
   "cell_type": "markdown",
   "metadata": {},
   "source": [
    "### Gradients for MaxPooling "
   ]
  },
  {
   "cell_type": "code",
   "execution_count": 49,
   "metadata": {},
   "outputs": [
    {
     "name": "stdout",
     "output_type": "stream",
     "text": [
      "10.0\n",
      "[array([ 0.        ,  0.        ,  3.        ,  0.33333334,  0.33333334,\n",
      "        0.33333334], dtype=float32)]\n"
     ]
    }
   ],
   "source": [
    "# Manual Convolution\n",
    "#(Assume filter is already flipped)\n",
    "import tensorflow as tf;\n",
    "import numpy as np;\n",
    "def pool(x):\n",
    "    out =[]\n",
    "    for i in range(6-3+1):\n",
    "        out.append(tf.reduce_max(x[i:i+3]))\n",
    "    return tf.convert_to_tensor(out)\n",
    "x = tf.placeholder(tf.float32,shape=(6))\n",
    "out = tf.reduce_sum(pool(x))\n",
    "grads = tf.gradients(out,x)\n",
    "with tf.Session() as sess:\n",
    "    sess.run(tf.global_variables_initializer());\n",
    "    print (sess.run(out,feed_dict={x : np.array([1,2,3,1,1,1])}))\n",
    "    print (sess.run(grads,feed_dict={x : np.array([1,2,3,1,1,1])}))"
   ]
  },
  {
   "cell_type": "markdown",
   "metadata": {},
   "source": [
    "This one is tricky one. Out of all 4 values, it goes and sits out for highest value. Therefore, it leads to loss of information too."
   ]
  },
  {
   "cell_type": "markdown",
   "metadata": {},
   "source": [
    "## Gradient of Sigmoid output"
   ]
  },
  {
   "cell_type": "code",
   "execution_count": 58,
   "metadata": {},
   "outputs": [
    {
     "ename": "TypeError",
     "evalue": "squeeze() got an unexpected keyword argument 'label'",
     "output_type": "error",
     "traceback": [
      "\u001b[0;31m---------------------------------------------------------------------------\u001b[0m",
      "\u001b[0;31mTypeError\u001b[0m                                 Traceback (most recent call last)",
      "\u001b[0;32m<ipython-input-58-4d3cc9116b47>\u001b[0m in \u001b[0;36m<module>\u001b[0;34m()\u001b[0m\n\u001b[1;32m     16\u001b[0m \u001b[0;34m\u001b[0m\u001b[0m\n\u001b[1;32m     17\u001b[0m     \u001b[0maxarr\u001b[0m\u001b[0;34m[\u001b[0m\u001b[0;36m0\u001b[0m\u001b[0;34m]\u001b[0m\u001b[0;34m.\u001b[0m\u001b[0mgrid\u001b[0m\u001b[0;34m(\u001b[0m\u001b[0mcolor\u001b[0m\u001b[0;34m=\u001b[0m\u001b[0;34m'g'\u001b[0m\u001b[0;34m,\u001b[0m \u001b[0mlinestyle\u001b[0m\u001b[0;34m=\u001b[0m\u001b[0;34m'--'\u001b[0m\u001b[0;34m,\u001b[0m \u001b[0mlinewidth\u001b[0m\u001b[0;34m=\u001b[0m\u001b[0;36m1\u001b[0m\u001b[0;34m)\u001b[0m\u001b[0;34m\u001b[0m\u001b[0m\n\u001b[0;32m---> 18\u001b[0;31m     \u001b[0mh1\u001b[0m \u001b[0;34m=\u001b[0m \u001b[0maxarr\u001b[0m\u001b[0;34m[\u001b[0m\u001b[0;36m0\u001b[0m\u001b[0;34m]\u001b[0m\u001b[0;34m.\u001b[0m\u001b[0mplot\u001b[0m\u001b[0;34m(\u001b[0m\u001b[0mxval\u001b[0m\u001b[0;34m,\u001b[0m\u001b[0mnp\u001b[0m\u001b[0;34m.\u001b[0m\u001b[0msqueeze\u001b[0m\u001b[0;34m(\u001b[0m\u001b[0mgradsigmaval\u001b[0m\u001b[0;34m,\u001b[0m\u001b[0mlabel\u001b[0m\u001b[0;34m=\u001b[0m\u001b[0;34m'sigmoid'\u001b[0m\u001b[0;34m)\u001b[0m\u001b[0;34m)\u001b[0m\u001b[0;34m;\u001b[0m\u001b[0;34m\u001b[0m\u001b[0m\n\u001b[0m\u001b[1;32m     19\u001b[0m     \u001b[0mh2\u001b[0m \u001b[0;34m=\u001b[0m \u001b[0maxarr\u001b[0m\u001b[0;34m[\u001b[0m\u001b[0;36m0\u001b[0m\u001b[0;34m]\u001b[0m\u001b[0;34m.\u001b[0m\u001b[0mplot\u001b[0m\u001b[0;34m(\u001b[0m\u001b[0mxval\u001b[0m\u001b[0;34m,\u001b[0m\u001b[0mnp\u001b[0m\u001b[0;34m.\u001b[0m\u001b[0msqueeze\u001b[0m\u001b[0;34m(\u001b[0m\u001b[0msigmaval\u001b[0m\u001b[0;34m,\u001b[0m\u001b[0mlabel\u001b[0m\u001b[0;34m=\u001b[0m\u001b[0;34m\"gradient\"\u001b[0m\u001b[0;34m)\u001b[0m\u001b[0;34m)\u001b[0m\u001b[0;34m;\u001b[0m\u001b[0;34m\u001b[0m\u001b[0m\n\u001b[1;32m     20\u001b[0m     \u001b[0maxarr\u001b[0m\u001b[0;34m[\u001b[0m\u001b[0;36m0\u001b[0m\u001b[0;34m]\u001b[0m\u001b[0;34m.\u001b[0m\u001b[0mset_title\u001b[0m\u001b[0;34m(\u001b[0m\u001b[0;34m\"sigmoid\"\u001b[0m\u001b[0;34m)\u001b[0m\u001b[0;34m;\u001b[0m\u001b[0;34m\u001b[0m\u001b[0m\n",
      "\u001b[0;31mTypeError\u001b[0m: squeeze() got an unexpected keyword argument 'label'"
     ]
    },
    {
     "data": {
      "image/png": "[encoded data removed]",
      "text/plain": [
       "<matplotlib.figure.Figure at 0x7fd18814b470>"
      ]
     },
     "metadata": {},
     "output_type": "display_data"
    }
   ],
   "source": [
    "import tensorflow as tf;\n",
    "import numpy as np;\n",
    "import matplotlib.pyplot as plt;\n",
    "x= tf.placeholder(tf.float32);\n",
    "fsigma = tf.nn.sigmoid(x);\n",
    "frelu = tf.nn.relu(x);\n",
    "ftanh = tf.nn.tanh(x)\n",
    "gradsigma =tf.gradients(fsigma,x)\n",
    "gradrelu = tf.gradients(frelu,x)\n",
    "gradtanh = tf.gradients(ftanh,x)\n",
    "f,axarr = plt.subplots(1,3,figsize=(18,5),sharey=True)\n",
    "with tf.Session() as sess:\n",
    "    xval = np.linspace(-3,3,100)\n",
    "    # Gradient Calculation for Sigmoid;\n",
    "    gradsigmaval,sigmaval = (sess.run([gradsigma,fsigma],feed_dict={x:xval}))\n",
    "    \n",
    "    axarr[0].grid(color='g', linestyle='--', linewidth=1)\n",
    "    h1 = axarr[0].plot(xval,np.squeeze(gradsigmaval),label='sigmoid');\n",
    "    h2 = axarr[0].plot(xval,np.squeeze(sigmaval),label=\"gradient\");\n",
    "    axarr[0].set_title(\"sigmoid\");\n",
    "    axarr[0].legend(handles = [h1,h2])\n",
    "\n",
    "    # Gradient Calculation for tanh;\n",
    "    gradtanhval,tanhval = (sess.run([gradtanh,ftanh],feed_dict={x:xval}))\n",
    "    \n",
    "    axarr[1].grid(color='g', linestyle='--', linewidth=1)\n",
    "    axarr[1].plot(xval,np.squeeze(gradtanhval));\n",
    "    axarr[1].plot(xval,np.squeeze(tanhval));\n",
    "    axarr[1].set_title(\"sigmoid\");\n",
    "\n",
    "    # Gradient Calculation for relu;\n",
    "    xval = np.linspace(-1.5,1.5,100)\n",
    "    gradreluval,reluval = (sess.run([gradrelu,frelu],feed_dict={x:xval}))    \n",
    "    axarr[2].grid(color='g', linestyle='--', linewidth=1)\n",
    "    axarr[2].plot(xval,np.squeeze(gradreluval));\n",
    "    axarr[2].plot(xval,np.squeeze(reluval));\n",
    "    \n",
    "    plt.show()"
   ]
  },
  {
   "cell_type": "markdown",
   "metadata": {},
   "source": [
    "## "
   ]
  }
 ],
 "metadata": {
  "kernelspec": {
   "display_name": "Python 3",
   "language": "python",
   "name": "python3"
  },
  "language_info": {
   "codemirror_mode": {
    "name": "ipython",
    "version": 3
   },
   "file_extension": ".py",
   "mimetype": "text/x-python",
   "name": "python",
   "nbconvert_exporter": "python",
   "pygments_lexer": "ipython3",
   "version": "3.5.2"
  }
 },
 "nbformat": 4,
 "nbformat_minor": 2
}
