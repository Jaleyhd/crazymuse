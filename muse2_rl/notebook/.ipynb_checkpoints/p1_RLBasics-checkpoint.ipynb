{
 "cells": [
  {
   "cell_type": "code",
   "execution_count": 1,
   "metadata": {},
   "outputs": [],
   "source": [
    "from gridEnv import Grid;\n",
    "import numpy as np;"
   ]
  },
  {
   "cell_type": "code",
   "execution_count": 2,
   "metadata": {},
   "outputs": [
    {
     "name": "stdout",
     "output_type": "stream",
     "text": [
      "|. . . T .|\n",
      "|. . . . .|\n",
      "|. C . . .|\n",
      "(False, 0, [2, 2])\n"
     ]
    }
   ],
   "source": [
    "from IPython.display import clear_output\n",
    "from time import sleep;\n",
    "g = Grid(length=3,width=5,start=(0,0),terminals=[(0,3)]);\n",
    "for i in range(4):\n",
    "    g.display()\n",
    "    print (g.step(3))\n",
    "    sleep(1);\n",
    "    clear_output(wait=True)\n"
   ]
  },
  {
   "cell_type": "markdown",
   "metadata": {},
   "source": [
    "# Single Episode"
   ]
  },
  {
   "cell_type": "code",
   "execution_count": 3,
   "metadata": {},
   "outputs": [
    {
     "name": "stdout",
     "output_type": "stream",
     "text": [
      "|C . . T .|\n",
      "|. . . . .|\n",
      "|. . . . .|\n",
      "Loop Ended\n"
     ]
    }
   ],
   "source": [
    "hasEnded = False;\n",
    "g.reset()\n",
    "while(hasEnded == False):\n",
    "    g.display()\n",
    "    print (g.step(0,update=False),g.step(1,update=False),g.step(2,update=False),g.step(3,update=False))\n",
    "    hasEnded,reward,nextpos = g.step(g.getbestaction(),epsilon=0.7)\n",
    "    sleep(0.1);\n",
    "    clear_output(wait=True)\n",
    "g.display()\n",
    "print ('Loop Ended')\n"
   ]
  },
  {
   "cell_type": "markdown",
   "metadata": {},
   "source": [
    "# Value Iteration"
   ]
  },
  {
   "cell_type": "code",
   "execution_count": null,
   "metadata": {},
   "outputs": [
    {
     "name": "stdout",
     "output_type": "stream",
     "text": [
      "|. C . T .|\n",
      "|. . . . .|\n",
      "|. . . . .|\n",
      "[[ 0.13  0.16  0.2  -1.   -0.23]\n",
      " [ 0.1   0.13  0.16  0.2  -0.13]\n",
      " [ 0.12  0.15  0.18  0.13  0.09]]\n"
     ]
    }
   ],
   "source": [
    "gamma =0.9;\n",
    "for i in range(1000):\n",
    "    g.display()\n",
    "    print (g.value);\n",
    "    rary=[]\n",
    "    for a in range(4):\n",
    "        hasEnded,reward,nextpos = g.step(a,epsilon=1,update=False)\n",
    "        vnext = g.value[nextpos[0],nextpos[1]]\n",
    "        rary.append(reward+gamma*vnext)\n",
    "    bestaction,bestdiscreward = np.argmax(rary),np.max(rary)\n",
    "    curpos=list(g.curpos)\n",
    "    g.step(g.policy[g.curpos[0],g.curpos[1]],epsilon=0.9);\n",
    "    g.policy[curpos[0],curpos[1]]=bestaction;\n",
    "    g.value[curpos[0],curpos[1]] = bestdiscreward;\n",
    "    sleep(0.1);\n",
    "    clear_output(wait=True)\n",
    "    \n",
    "    \n",
    "    "
   ]
  },
  {
   "cell_type": "code",
   "execution_count": null,
   "metadata": {},
   "outputs": [],
   "source": [
    "print (g.value)"
   ]
  },
  {
   "cell_type": "code",
   "execution_count": null,
   "metadata": {},
   "outputs": [],
   "source": []
  }
 ],
 "metadata": {
  "kernelspec": {
   "display_name": "Python 3",
   "language": "python",
   "name": "python3"
  },
  "language_info": {
   "codemirror_mode": {
    "name": "ipython",
    "version": 3
   },
   "file_extension": ".py",
   "mimetype": "text/x-python",
   "name": "python",
   "nbconvert_exporter": "python",
   "pygments_lexer": "ipython3",
   "version": "3.6.4"
  }
 },
 "nbformat": 4,
 "nbformat_minor": 2
}
