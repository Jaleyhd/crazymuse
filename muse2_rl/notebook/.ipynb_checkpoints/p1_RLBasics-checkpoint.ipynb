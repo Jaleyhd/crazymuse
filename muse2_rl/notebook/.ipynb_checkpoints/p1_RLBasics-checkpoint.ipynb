{
 "cells": [
  {
   "cell_type": "code",
   "execution_count": 54,
   "metadata": {},
   "outputs": [],
   "source": [
    "import numpy;\n",
    "\n",
    "\n",
    "\n",
    "#N,E,W,S = 0,1,2,3\n",
    "class Grid(object):\n",
    "    def __init__(self,length,width,start,terminals,walls=0):\n",
    "        self.length,self.width = length,width;\n",
    "        self.grid = np.chararray((length,width));\n",
    "        self.grid[:]='.'\n",
    "        self.grid[start]='C'\n",
    "        for terminal in terminals:\n",
    "            if(self.isOutOfBound(terminal)):\n",
    "                raise Exception('Terminal state is out of bound')\n",
    "            self.grid[terminal]='T'\n",
    "        self.start = list(start);\n",
    "        self.terminals =terminals\n",
    "        self.curpos =self.start;\n",
    "    def step(self,action):\n",
    "        nextpos=[0,0]\n",
    "        action = int(action)\n",
    "        if action>=4 or action<0:\n",
    "            raise Exception('Action value should be [0,1,2,3]')\n",
    "        if action is 0: #North, decrement x\n",
    "            nextpos[0] = self.curpos[0]-1;\n",
    "            nextpos[1] = self.curpos[1];\n",
    "        elif action is 1: #East, increment y\n",
    "            nextpos[0] = self.curpos[0];\n",
    "            nextpos[1] = self.curpos[1]+1;\n",
    "        elif action is 2: #West, decrement y\n",
    "            nextpos[0] = self.curpos[0];\n",
    "            nextpos[1] = self.curpos[1]-1;\n",
    "        elif action is 3: #South, decrement y\n",
    "            nextpos[0] = self.curpos[0]+1;\n",
    "            nextpos[1] = self.curpos[1];\n",
    "        #Update Current position\n",
    "        if self.isOutOfBound(nextpos):\n",
    "            return (False,-1);\n",
    "        if self.isTerminal(nextpos):\n",
    "            self.updatepos(nextpos)\n",
    "            return (True,1);\n",
    "        self.updatePos(nextpos)\n",
    "        return (True,0)\n",
    "    def isOutOfBound(self,nextpos):\n",
    "        if nextpos[0]<0 or nextpos[0]>=self.length \\\n",
    "          or nextpos[1]<0 or nextpos[1]>=self.width :\n",
    "            return True;\n",
    "        return False\n",
    "    def isTerminal(self,nextpos):\n",
    "        if tuple(nextpos) in self.terminals:\n",
    "            return True;\n",
    "        return False;\n",
    "    def updatePos(self,nextpos):\n",
    "        self.grid[self.curpos[0]][self.curpos[1]]='.'\n",
    "        self.curpos = nextpos;\n",
    "        self.grid[self.curpos[0]][self.curpos[1]]='C'    \n",
    "    def display(self):\n",
    "        for row in self.grid:\n",
    "            print ('|'+'.'.join(row.decode('utf-8'))+'|')"
   ]
  },
  {
   "cell_type": "code",
   "execution_count": 59,
   "metadata": {},
   "outputs": [
    {
     "name": "stdout",
     "output_type": "stream",
     "text": [
      "|.........|\n",
      "|......T..|\n",
      "|C........|\n"
     ]
    }
   ],
   "source": [
    "from IPython.display import clear_output\n",
    "from time import sleep;\n",
    "g = Grid(length=3,width=5,start=(0,0),terminals=[(1,3)]);\n",
    "for i in range(3):\n",
    "    clear_output()\n",
    "    g.step(3)\n",
    "    g.display()\n",
    "    sleep(1);\n"
   ]
  },
  {
   "cell_type": "code",
   "execution_count": 58,
   "metadata": {},
   "outputs": [
    {
     "name": "stdout",
     "output_type": "stream",
     "text": [
      "º\n"
     ]
    }
   ],
   "source": [
    "print (chr(186))"
   ]
  },
  {
   "cell_type": "code",
   "execution_count": null,
   "metadata": {},
   "outputs": [],
   "source": []
  }
 ],
 "metadata": {
  "kernelspec": {
   "display_name": "Python 3",
   "language": "python",
   "name": "python3"
  },
  "language_info": {
   "codemirror_mode": {
    "name": "ipython",
    "version": 3
   },
   "file_extension": ".py",
   "mimetype": "text/x-python",
   "name": "python",
   "nbconvert_exporter": "python",
   "pygments_lexer": "ipython3",
   "version": "3.5.2"
  }
 },
 "nbformat": 4,
 "nbformat_minor": 2
}
