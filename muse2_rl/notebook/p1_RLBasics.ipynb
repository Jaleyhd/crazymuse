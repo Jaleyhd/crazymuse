{
 "cells": [
  {
   "cell_type": "code",
   "execution_count": 1,
   "metadata": {},
   "outputs": [],
   "source": [
    "from gridEnv import Grid;\n",
    "import numpy as np;"
   ]
  },
  {
   "cell_type": "code",
   "execution_count": 8,
   "metadata": {},
   "outputs": [
    {
     "name": "stdout",
     "output_type": "stream",
     "text": [
      "|. . . . . .|\n",
      "|C . . . . .|\n",
      "|. . . . . .|\n",
      "|. . . . . T|\n",
      "(False, 0, [2, 0])\n"
     ]
    }
   ],
   "source": [
    "from IPython.display import clear_output\n",
    "from time import sleep;\n",
    "g = Grid(length=4,width=6,start=(0,0),terminals=[(3,5)]);\n",
    "for i in range(4):\n",
    "    g.display()\n",
    "    print (g.step(3))\n",
    "    sleep(1);\n",
    "    clear_output(wait=True)\n"
   ]
  },
  {
   "cell_type": "markdown",
   "metadata": {},
   "source": [
    "# Single Episode"
   ]
  },
  {
   "cell_type": "code",
   "execution_count": 11,
   "metadata": {},
   "outputs": [
    {
     "name": "stdout",
     "output_type": "stream",
     "text": [
      "|C . . . . .|\n",
      "|. . . . . .|\n",
      "|. . . . . .|\n",
      "|. . . . . T|\n",
      "Loop Ended\n"
     ]
    }
   ],
   "source": [
    "hasEnded = False;\n",
    "g.reset()\n",
    "while(hasEnded == False):\n",
    "    g.display()\n",
    "    print (g.step(0,update=False),g.step(1,update=False),g.step(2,update=False),g.step(3,update=False))\n",
    "    hasEnded,reward,nextpos = g.step(g.getbestaction(),epsilon=0.7)\n",
    "    sleep(0.1);\n",
    "    clear_output(wait=True)\n",
    "g.display()\n",
    "print ('Loop Ended')\n"
   ]
  },
  {
   "cell_type": "markdown",
   "metadata": {},
   "source": [
    "# Value Iteration"
   ]
  },
  {
   "cell_type": "code",
   "execution_count": 10,
   "metadata": {},
   "outputs": [
    {
     "name": "stdout",
     "output_type": "stream",
     "text": [
      "|. . . . . .|\n",
      "|. . C . . .|\n",
      "|. . . . . .|\n",
      "|. . . . . T|\n",
      "[[ 0.21  0.26  0.33  0.41  0.51  0.64]\n",
      " [ 0.26  0.33  0.41  0.51  0.64  0.8 ]\n",
      " [ 0.21  0.26  0.16  0.2   0.8   1.  ]\n",
      " [ 0.15 -0.44 -0.27  0.19 -0.38  0.  ]]\n"
     ]
    },
    {
     "ename": "KeyboardInterrupt",
     "evalue": "",
     "output_type": "error",
     "traceback": [
      "\u001b[1;31m---------------------------------------------------------------------------\u001b[0m",
      "\u001b[1;31mKeyboardInterrupt\u001b[0m                         Traceback (most recent call last)",
      "\u001b[1;32m<ipython-input-10-e978c40cfec3>\u001b[0m in \u001b[0;36m<module>\u001b[1;34m()\u001b[0m\n\u001b[0;32m     13\u001b[0m     \u001b[0mg\u001b[0m\u001b[1;33m.\u001b[0m\u001b[0mpolicy\u001b[0m\u001b[1;33m[\u001b[0m\u001b[0mcurpos\u001b[0m\u001b[1;33m[\u001b[0m\u001b[1;36m0\u001b[0m\u001b[1;33m]\u001b[0m\u001b[1;33m,\u001b[0m\u001b[0mcurpos\u001b[0m\u001b[1;33m[\u001b[0m\u001b[1;36m1\u001b[0m\u001b[1;33m]\u001b[0m\u001b[1;33m]\u001b[0m\u001b[1;33m=\u001b[0m\u001b[0mbestaction\u001b[0m\u001b[1;33m;\u001b[0m\u001b[1;33m\u001b[0m\u001b[0m\n\u001b[0;32m     14\u001b[0m     \u001b[0mg\u001b[0m\u001b[1;33m.\u001b[0m\u001b[0mvalue\u001b[0m\u001b[1;33m[\u001b[0m\u001b[0mcurpos\u001b[0m\u001b[1;33m[\u001b[0m\u001b[1;36m0\u001b[0m\u001b[1;33m]\u001b[0m\u001b[1;33m,\u001b[0m\u001b[0mcurpos\u001b[0m\u001b[1;33m[\u001b[0m\u001b[1;36m1\u001b[0m\u001b[1;33m]\u001b[0m\u001b[1;33m]\u001b[0m \u001b[1;33m=\u001b[0m \u001b[0mbestdiscreward\u001b[0m\u001b[1;33m;\u001b[0m\u001b[1;33m\u001b[0m\u001b[0m\n\u001b[1;32m---> 15\u001b[1;33m     \u001b[0msleep\u001b[0m\u001b[1;33m(\u001b[0m\u001b[1;36m0.1\u001b[0m\u001b[1;33m)\u001b[0m\u001b[1;33m;\u001b[0m\u001b[1;33m\u001b[0m\u001b[0m\n\u001b[0m\u001b[0;32m     16\u001b[0m     \u001b[0mclear_output\u001b[0m\u001b[1;33m(\u001b[0m\u001b[0mwait\u001b[0m\u001b[1;33m=\u001b[0m\u001b[1;32mTrue\u001b[0m\u001b[1;33m)\u001b[0m\u001b[1;33m\u001b[0m\u001b[0m\n\u001b[0;32m     17\u001b[0m \u001b[1;33m\u001b[0m\u001b[0m\n",
      "\u001b[1;31mKeyboardInterrupt\u001b[0m: "
     ]
    }
   ],
   "source": [
    "gamma =0.8;\n",
    "for i in range(1000):\n",
    "    g.display()\n",
    "    print (g.value);\n",
    "    rary=[]\n",
    "    for a in range(4):\n",
    "        hasEnded,reward,nextpos = g.step(a,epsilon=1,update=False)\n",
    "        vnext = g.value[nextpos[0],nextpos[1]]\n",
    "        rary.append(reward+gamma*vnext)\n",
    "    bestaction,bestdiscreward = np.argmax(rary),np.max(rary)\n",
    "    curpos=list(g.curpos)\n",
    "    g.step(g.policy[g.curpos[0],g.curpos[1]],epsilon=0.9);\n",
    "    g.policy[curpos[0],curpos[1]]=bestaction;\n",
    "    g.value[curpos[0],curpos[1]] = bestdiscreward;\n",
    "    sleep(0.1);\n",
    "    clear_output(wait=True)\n",
    "    \n",
    "    \n",
    "    "
   ]
  },
  {
   "cell_type": "code",
   "execution_count": null,
   "metadata": {},
   "outputs": [],
   "source": [
    "print (g.value)"
   ]
  },
  {
   "cell_type": "code",
   "execution_count": null,
   "metadata": {},
   "outputs": [],
   "source": []
  }
 ],
 "metadata": {
  "kernelspec": {
   "display_name": "Python 3",
   "language": "python",
   "name": "python3"
  },
  "language_info": {
   "codemirror_mode": {
    "name": "ipython",
    "version": 3
   },
   "file_extension": ".py",
   "mimetype": "text/x-python",
   "name": "python",
   "nbconvert_exporter": "python",
   "pygments_lexer": "ipython3",
   "version": "3.6.4"
  }
 },
 "nbformat": 4,
 "nbformat_minor": 2
}
