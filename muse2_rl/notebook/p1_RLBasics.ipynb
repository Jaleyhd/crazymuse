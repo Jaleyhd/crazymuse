{
 "cells": [
  {
   "cell_type": "code",
   "execution_count": 1,
   "metadata": {},
   "outputs": [],
   "source": [
    "from gridEnv import Grid;\n",
    "import numpy as np;"
   ]
  },
  {
   "cell_type": "code",
   "execution_count": 8,
   "metadata": {},
   "outputs": [
    {
     "name": "stdout",
     "output_type": "stream",
     "text": [
      "\n",
      "Environment at time 3\n",
      "|. . . . .|\n",
      "|. . . T .|\n",
      "|C . . . .|\n",
      "\n",
      "Policy\n",
      "|↓ ← ← ↑ ↓|\n",
      "|→ ← → ↓ ↑|\n",
      "|← ↓ ↑ ↓ ↑|\n",
      "\n",
      "Value\n"
     ]
    },
    {
     "data": {
      "image/png": "[encoded data removed]",
      "text/plain": [
       "<matplotlib.figure.Figure at 0x7fd660e923c8>"
      ]
     },
     "metadata": {},
     "output_type": "display_data"
    },
    {
     "name": "stdout",
     "output_type": "stream",
     "text": [
      "[[-0.24 -0.03  0.24 -0.05  0.49]\n",
      " [ 0.42 -0.45  0.42 -1.    0.17]\n",
      " [-0.42 -0.27  0.07  0.27 -0.24]]\n",
      "(False, -1)\n"
     ]
    }
   ],
   "source": [
    "from IPython.display import clear_output\n",
    "from time import sleep;\n",
    "g = Grid(length=3,width=5,start=(0,0),terminals=[(1,3)]);\n",
    "for i in range(4):\n",
    "    g.displayAll()\n",
    "    print (g.step(3))\n",
    "    sleep(1);\n",
    "    clear_output(wait=True)\n"
   ]
  },
  {
   "cell_type": "markdown",
   "metadata": {},
   "source": [
    "# Monte-Carlo Learning vs TD Learning\n"
   ]
  },
  {
   "cell_type": "code",
   "execution_count": null,
   "metadata": {},
   "outputs": [],
   "source": []
  }
 ],
 "metadata": {
  "kernelspec": {
   "display_name": "Python 3",
   "language": "python",
   "name": "python3"
  },
  "language_info": {
   "codemirror_mode": {
    "name": "ipython",
    "version": 3
   },
   "file_extension": ".py",
   "mimetype": "text/x-python",
   "name": "python",
   "nbconvert_exporter": "python",
   "pygments_lexer": "ipython3",
   "version": "3.5.2"
  }
 },
 "nbformat": 4,
 "nbformat_minor": 2
}
